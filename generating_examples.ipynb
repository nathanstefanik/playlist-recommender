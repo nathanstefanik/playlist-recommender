{
 "cells": [
  {
   "cell_type": "code",
   "execution_count": null,
   "metadata": {},
   "outputs": [],
   "source": [
    "import numpy as np\n",
    "import pandas as pd"
   ]
  },
  {
   "cell_type": "code",
   "execution_count": null,
   "metadata": {},
   "outputs": [],
   "source": [
    "a = -0.08412342  \n",
    "b = 0.09197938\n",
    "c = 0.4850077467275515\n"
   ]
  },
  {
   "cell_type": "code",
   "execution_count": null,
   "metadata": {},
   "outputs": [],
   "source": [
    "temporary_tracks = pd.read_pickle('crafted_data/playlists_and_trackid2.pkl')\n",
    "temporary_tracks = temporary_tracks.drop('pid', axis=1)\n",
    "print(temporary_tracks.shape)\n",
    "temporary_tracks.head()"
   ]
  },
  {
   "cell_type": "code",
   "execution_count": null,
   "metadata": {},
   "outputs": [],
   "source": [
    "# tracks_features = pd.read_pickle('normalized_track_features.pkl')\n",
    "tracks_features = pd.read_csv('tracks_features.csv')\n",
    "# tracks_features = pd.read_pickle('src/tracks_numerical_features.pkl')\n",
    "tracks_features = tracks_features[tracks_features['time_signature'] != 0]\n",
    "tracks_features.head()"
   ]
  },
  {
   "cell_type": "code",
   "execution_count": null,
   "metadata": {},
   "outputs": [],
   "source": [
    "# from sklearn.metrics import mean_squared_error\n",
    "# my_track = temporary_tracks['tracks'].iloc[8]\n",
    "# X = []\n",
    "# y = []\n",
    "# main = []\n",
    "# for elem in my_track:\n",
    "#     # print(tracks_features.loc[elem])\n",
    "#     X.append(tracks_features[['acousticness', 'energy']].loc[elem].values)\n",
    "#     y.append(tracks_features.loc[elem, 'danceability'])\n",
    "#     main.append(tracks_features.loc[elem])\n",
    "\n",
    "\n",
    "# main = pd.DataFrame(main)\n",
    "# print('Playlist ID: ', 8)\n",
    "# print('Playlist Name: BOP')\n",
    "# print('Ground truth danceability: ', np.average(y))\n",
    "# truth = np.average(y)\n",
    "# pred = np.average((a*np.array(X)[:,0]) + (b*np.array(X)[:,1]) + c)\n",
    "# mse = (truth - pred)**2\n",
    "# # def sigmoid(x):\n",
    "# #     return 1 / (1 + np.exp(-x))\n",
    "# # p = sigmoid(pred)\n",
    "# # y = sigmoid(y)\n",
    "# p = pred\n",
    "# y = truth\n",
    "# ll = -(y * np.log(p)) + (1-y)*np.log(1-p)\n",
    "# print('Predicted danceabilities: \\n\\tLinear Regression: ', pred, '\\n\\tMSE: ', mse, '\\n\\tLog Loss: ', ll)\n",
    "# main"
   ]
  },
  {
   "cell_type": "code",
   "execution_count": null,
   "metadata": {},
   "outputs": [],
   "source": []
  }
 ],
 "metadata": {
  "interpreter": {
   "hash": "b21c3a604574dfaedfebf33016634125002219c5b053c76b7c30093444b6955f"
  },
  "kernelspec": {
   "display_name": "Python 3.10.6 64-bit ('ml': conda)",
   "name": "python3"
  },
  "language_info": {
   "codemirror_mode": {
    "name": "ipython",
    "version": 3
   },
   "file_extension": ".py",
   "mimetype": "text/x-python",
   "name": "python",
   "nbconvert_exporter": "python",
   "pygments_lexer": "ipython3",
   "version": "3.10.6"
  },
  "orig_nbformat": 4
 },
 "nbformat": 4,
 "nbformat_minor": 2
}
