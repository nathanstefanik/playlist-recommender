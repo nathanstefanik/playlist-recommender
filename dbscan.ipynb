{
 "cells": [
  {
   "cell_type": "code",
   "execution_count": 1,
   "metadata": {},
   "outputs": [],
   "source": [
    "import numpy as np\n",
    "import pandas as pd"
   ]
  },
  {
   "cell_type": "code",
   "execution_count": 2,
   "metadata": {},
   "outputs": [
    {
     "data": {
      "text/html": [
       "<div>\n",
       "<style scoped>\n",
       "    .dataframe tbody tr th:only-of-type {\n",
       "        vertical-align: middle;\n",
       "    }\n",
       "\n",
       "    .dataframe tbody tr th {\n",
       "        vertical-align: top;\n",
       "    }\n",
       "\n",
       "    .dataframe thead th {\n",
       "        text-align: right;\n",
       "    }\n",
       "</style>\n",
       "<table border=\"1\" class=\"dataframe\">\n",
       "  <thead>\n",
       "    <tr style=\"text-align: right;\">\n",
       "      <th></th>\n",
       "      <th>pid</th>\n",
       "      <th>name</th>\n",
       "      <th>tracks</th>\n",
       "      <th>num_tracks</th>\n",
       "      <th>num_tracks_id</th>\n",
       "    </tr>\n",
       "  </thead>\n",
       "  <tbody>\n",
       "    <tr>\n",
       "      <th>3</th>\n",
       "      <td>3</td>\n",
       "      <td>mat</td>\n",
       "      <td>[4WJ7UMD4i6DOPzyXU5pZSz, 2K0HAp3di1AvmIjYYdPk4...</td>\n",
       "      <td>126</td>\n",
       "      <td>21</td>\n",
       "    </tr>\n",
       "    <tr>\n",
       "      <th>14</th>\n",
       "      <td>14</td>\n",
       "      <td>90's</td>\n",
       "      <td>[0HDaKOlVAfUWXdFR2RhBtN, 0wvIGFIgbyz4JNwQhZgTv...</td>\n",
       "      <td>103</td>\n",
       "      <td>26</td>\n",
       "    </tr>\n",
       "    <tr>\n",
       "      <th>16</th>\n",
       "      <td>16</td>\n",
       "      <td>slow hands</td>\n",
       "      <td>[2GOQVqZ3uVp7LKVAY1T0mk, 0Up7ojBDVmoYsqK8OShEe...</td>\n",
       "      <td>105</td>\n",
       "      <td>25</td>\n",
       "    </tr>\n",
       "    <tr>\n",
       "      <th>17</th>\n",
       "      <td>17</td>\n",
       "      <td>Mom's playlist</td>\n",
       "      <td>[0PywzrV955BnXDC8FHAf0n, 5ke4Bsi02hoYUFZOWqvAQ...</td>\n",
       "      <td>79</td>\n",
       "      <td>22</td>\n",
       "    </tr>\n",
       "    <tr>\n",
       "      <th>28</th>\n",
       "      <td>28</td>\n",
       "      <td>Yeet</td>\n",
       "      <td>[1B87ZDrD3Pno9hS4stamWO, 4nFksVP9B1uBG6XNvXwkz...</td>\n",
       "      <td>81</td>\n",
       "      <td>23</td>\n",
       "    </tr>\n",
       "  </tbody>\n",
       "</table>\n",
       "</div>"
      ],
      "text/plain": [
       "    pid            name                                             tracks  \\\n",
       "3     3             mat  [4WJ7UMD4i6DOPzyXU5pZSz, 2K0HAp3di1AvmIjYYdPk4...   \n",
       "14   14           90's   [0HDaKOlVAfUWXdFR2RhBtN, 0wvIGFIgbyz4JNwQhZgTv...   \n",
       "16   16      slow hands  [2GOQVqZ3uVp7LKVAY1T0mk, 0Up7ojBDVmoYsqK8OShEe...   \n",
       "17   17  Mom's playlist  [0PywzrV955BnXDC8FHAf0n, 5ke4Bsi02hoYUFZOWqvAQ...   \n",
       "28   28            Yeet  [1B87ZDrD3Pno9hS4stamWO, 4nFksVP9B1uBG6XNvXwkz...   \n",
       "\n",
       "    num_tracks  num_tracks_id  \n",
       "3          126             21  \n",
       "14         103             26  \n",
       "16         105             25  \n",
       "17          79             22  \n",
       "28          81             23  "
      ]
     },
     "execution_count": 2,
     "metadata": {},
     "output_type": "execute_result"
    }
   ],
   "source": [
    "df = pd.read_pickle('temporary_tracks.pkl')\n",
    "df = df[:200]\n",
    "df = df[df['num_tracks_id'] >= 20]\n",
    "# becuase we only converted the first 200:\n",
    "df.head()\n",
    "\n"
   ]
  },
  {
   "cell_type": "code",
   "execution_count": 3,
   "metadata": {},
   "outputs": [
    {
     "data": {
      "text/plain": [
       "(59, 5)"
      ]
     },
     "execution_count": 3,
     "metadata": {},
     "output_type": "execute_result"
    }
   ],
   "source": [
    "df.shape"
   ]
  },
  {
   "cell_type": "code",
   "execution_count": 4,
   "metadata": {},
   "outputs": [
    {
     "data": {
      "text/html": [
       "<div>\n",
       "<style scoped>\n",
       "    .dataframe tbody tr th:only-of-type {\n",
       "        vertical-align: middle;\n",
       "    }\n",
       "\n",
       "    .dataframe tbody tr th {\n",
       "        vertical-align: top;\n",
       "    }\n",
       "\n",
       "    .dataframe thead th {\n",
       "        text-align: right;\n",
       "    }\n",
       "</style>\n",
       "<table border=\"1\" class=\"dataframe\">\n",
       "  <thead>\n",
       "    <tr style=\"text-align: right;\">\n",
       "      <th></th>\n",
       "      <th>explicit</th>\n",
       "      <th>danceability</th>\n",
       "      <th>energy</th>\n",
       "      <th>key</th>\n",
       "      <th>loudness</th>\n",
       "      <th>mode</th>\n",
       "      <th>speechiness</th>\n",
       "      <th>acousticness</th>\n",
       "      <th>instrumentalness</th>\n",
       "      <th>liveness</th>\n",
       "      <th>valence</th>\n",
       "      <th>tempo</th>\n",
       "      <th>time_signature</th>\n",
       "    </tr>\n",
       "    <tr>\n",
       "      <th>id</th>\n",
       "      <th></th>\n",
       "      <th></th>\n",
       "      <th></th>\n",
       "      <th></th>\n",
       "      <th></th>\n",
       "      <th></th>\n",
       "      <th></th>\n",
       "      <th></th>\n",
       "      <th></th>\n",
       "      <th></th>\n",
       "      <th></th>\n",
       "      <th></th>\n",
       "      <th></th>\n",
       "    </tr>\n",
       "  </thead>\n",
       "  <tbody>\n",
       "    <tr>\n",
       "      <th>7lmeHLHBe4nmXzuXc0HDjk</th>\n",
       "      <td>0</td>\n",
       "      <td>0.470</td>\n",
       "      <td>0.978</td>\n",
       "      <td>7</td>\n",
       "      <td>-5.399</td>\n",
       "      <td>1</td>\n",
       "      <td>0.0727</td>\n",
       "      <td>0.02610</td>\n",
       "      <td>0.000011</td>\n",
       "      <td>0.3560</td>\n",
       "      <td>0.503</td>\n",
       "      <td>117.906</td>\n",
       "      <td>4.0</td>\n",
       "    </tr>\n",
       "    <tr>\n",
       "      <th>1wsRitfRRtWyEapl0q22o8</th>\n",
       "      <td>1</td>\n",
       "      <td>0.599</td>\n",
       "      <td>0.957</td>\n",
       "      <td>11</td>\n",
       "      <td>-5.764</td>\n",
       "      <td>1</td>\n",
       "      <td>0.1880</td>\n",
       "      <td>0.01290</td>\n",
       "      <td>0.000071</td>\n",
       "      <td>0.1550</td>\n",
       "      <td>0.489</td>\n",
       "      <td>103.680</td>\n",
       "      <td>4.0</td>\n",
       "    </tr>\n",
       "    <tr>\n",
       "      <th>1hR0fIFK2qRG3f3RF70pb7</th>\n",
       "      <td>0</td>\n",
       "      <td>0.315</td>\n",
       "      <td>0.970</td>\n",
       "      <td>7</td>\n",
       "      <td>-5.424</td>\n",
       "      <td>1</td>\n",
       "      <td>0.4830</td>\n",
       "      <td>0.02340</td>\n",
       "      <td>0.000002</td>\n",
       "      <td>0.1220</td>\n",
       "      <td>0.370</td>\n",
       "      <td>149.749</td>\n",
       "      <td>4.0</td>\n",
       "    </tr>\n",
       "    <tr>\n",
       "      <th>2lbASgTSoDO7MTuLAXlTW0</th>\n",
       "      <td>1</td>\n",
       "      <td>0.440</td>\n",
       "      <td>0.967</td>\n",
       "      <td>11</td>\n",
       "      <td>-5.830</td>\n",
       "      <td>0</td>\n",
       "      <td>0.2370</td>\n",
       "      <td>0.16300</td>\n",
       "      <td>0.000004</td>\n",
       "      <td>0.1210</td>\n",
       "      <td>0.574</td>\n",
       "      <td>96.752</td>\n",
       "      <td>4.0</td>\n",
       "    </tr>\n",
       "    <tr>\n",
       "      <th>1MQTmpYOZ6fcMQc56Hdo7T</th>\n",
       "      <td>0</td>\n",
       "      <td>0.426</td>\n",
       "      <td>0.929</td>\n",
       "      <td>2</td>\n",
       "      <td>-6.729</td>\n",
       "      <td>1</td>\n",
       "      <td>0.0701</td>\n",
       "      <td>0.00162</td>\n",
       "      <td>0.105000</td>\n",
       "      <td>0.0789</td>\n",
       "      <td>0.539</td>\n",
       "      <td>127.059</td>\n",
       "      <td>4.0</td>\n",
       "    </tr>\n",
       "  </tbody>\n",
       "</table>\n",
       "</div>"
      ],
      "text/plain": [
       "                        explicit  danceability  energy  key  loudness  mode  \\\n",
       "id                                                                            \n",
       "7lmeHLHBe4nmXzuXc0HDjk         0         0.470   0.978    7    -5.399     1   \n",
       "1wsRitfRRtWyEapl0q22o8         1         0.599   0.957   11    -5.764     1   \n",
       "1hR0fIFK2qRG3f3RF70pb7         0         0.315   0.970    7    -5.424     1   \n",
       "2lbASgTSoDO7MTuLAXlTW0         1         0.440   0.967   11    -5.830     0   \n",
       "1MQTmpYOZ6fcMQc56Hdo7T         0         0.426   0.929    2    -6.729     1   \n",
       "\n",
       "                        speechiness  acousticness  instrumentalness  liveness  \\\n",
       "id                                                                              \n",
       "7lmeHLHBe4nmXzuXc0HDjk       0.0727       0.02610          0.000011    0.3560   \n",
       "1wsRitfRRtWyEapl0q22o8       0.1880       0.01290          0.000071    0.1550   \n",
       "1hR0fIFK2qRG3f3RF70pb7       0.4830       0.02340          0.000002    0.1220   \n",
       "2lbASgTSoDO7MTuLAXlTW0       0.2370       0.16300          0.000004    0.1210   \n",
       "1MQTmpYOZ6fcMQc56Hdo7T       0.0701       0.00162          0.105000    0.0789   \n",
       "\n",
       "                        valence    tempo  time_signature  \n",
       "id                                                        \n",
       "7lmeHLHBe4nmXzuXc0HDjk    0.503  117.906             4.0  \n",
       "1wsRitfRRtWyEapl0q22o8    0.489  103.680             4.0  \n",
       "1hR0fIFK2qRG3f3RF70pb7    0.370  149.749             4.0  \n",
       "2lbASgTSoDO7MTuLAXlTW0    0.574   96.752             4.0  \n",
       "1MQTmpYOZ6fcMQc56Hdo7T    0.539  127.059             4.0  "
      ]
     },
     "execution_count": 4,
     "metadata": {},
     "output_type": "execute_result"
    }
   ],
   "source": [
    "tracks_features = pd.read_pickle('tracks_features_processed.pkl')\n",
    "tracks_features.set_index('id', inplace=True)\n",
    "tracks_features = tracks_features[tracks_features['time_signature'] != 0]\n",
    "tracks_features.head()"
   ]
  },
  {
   "cell_type": "code",
   "execution_count": 5,
   "metadata": {},
   "outputs": [
    {
     "data": {
      "text/plain": [
       "(1201216, 13)"
      ]
     },
     "execution_count": 5,
     "metadata": {},
     "output_type": "execute_result"
    }
   ],
   "source": [
    "tracks_features.shape"
   ]
  },
  {
   "cell_type": "code",
   "execution_count": 6,
   "metadata": {},
   "outputs": [],
   "source": [
    "from sklearn.cluster import DBSCAN\n",
    "# executes dbscan on tracks. returns output of dbscan\n",
    "def get_largest_cluster(playlist):\n",
    "    X = []\n",
    "    for track in playlist:\n",
    "        X.append(list(tracks_features.loc[track]))\n",
    "    return DBSCAN(eps=.01, min_samples=2).fit(X).labels_\n",
    "# sklearn.cluster.DBSCAN(eps=0.5, *, min_samples=5, metric='euclidean', metric_params=None, algorithm='auto', leaf_size=30, p=None, n_jobs=None)[source]¶\n",
    "# def get_recommended_song(playlist):\n"
   ]
  },
  {
   "cell_type": "code",
   "execution_count": 9,
   "metadata": {},
   "outputs": [
    {
     "name": "stdout",
     "output_type": "stream",
     "text": [
      "[0.28090916 0.23345019]\n",
      "['pca0' 'pca1']\n"
     ]
    }
   ],
   "source": [
    "# PCA'ed features\n",
    "def absmax_scale(series):\n",
    "    return (series - min(series)) / (series.max() - series.min())\n",
    "for col in tracks_features.columns:\n",
    "    tracks_features[col] = absmax_scale(tracks_features[col])\n",
    "X = tracks_features.values\n",
    "tracks_features.to_pickle('normalized_track_features.pkl')\n",
    "from sklearn.decomposition import PCA\n",
    "pca = PCA(n_components=2)\n",
    "X_new = pca.fit_transform(X)\n",
    "print(pca.explained_variance_ratio_)\n",
    "print(pca.get_feature_names_out(tracks_features.columns))"
   ]
  },
  {
   "cell_type": "code",
   "execution_count": null,
   "metadata": {},
   "outputs": [
    {
     "name": "stdout",
     "output_type": "stream",
     "text": [
      "[[-0.13712252 -0.17026129 -0.48681924 -0.04841513 -0.1607562   0.10917618\n",
      "  -0.04481526  0.65104034  0.40731321 -0.06469509 -0.26742111 -0.06906333\n",
      "  -0.05361235]\n",
      " [ 0.01677309 -0.01997869 -0.02947698  0.17879979 -0.02061614 -0.96936529\n",
      "   0.00555279  0.02602271  0.14182626 -0.01496623 -0.07193879 -0.01224592\n",
      "  -0.00391374]]\n",
      "[[0.00000000e+00 4.70000000e-01 9.78000000e-01 6.36363636e-01\n",
      "  8.09050923e-01 1.00000000e+00 7.50257998e-02 2.62048193e-02\n",
      "  1.09000000e-05 3.56000000e-01 5.03000000e-01 4.01469057e-01\n",
      "  7.50000000e-01]\n",
      " [1.00000000e+00 5.99000000e-01 9.57000000e-01 1.00000000e+00\n",
      "  8.03533911e-01 1.00000000e+00 1.94014448e-01 1.29518072e-02\n",
      "  7.06000000e-05 1.55000000e-01 4.89000000e-01 3.36485227e-01\n",
      "  7.50000000e-01]\n",
      " [0.00000000e+00 3.15000000e-01 9.70000000e-01 6.36363636e-01\n",
      "  8.08673045e-01 1.00000000e+00 4.98452012e-01 2.34939759e-02\n",
      "  2.03000000e-06 1.22000000e-01 3.70000000e-01 5.46926675e-01\n",
      "  7.50000000e-01]\n",
      " [1.00000000e+00 4.40000000e-01 9.67000000e-01 1.00000000e+00\n",
      "  8.02536314e-01 0.00000000e+00 2.44582043e-01 1.63654618e-01\n",
      "  3.64000000e-06 1.21000000e-01 5.74000000e-01 3.04838385e-01\n",
      "  7.50000000e-01]]\n"
     ]
    }
   ],
   "source": [
    "print(pca.components_)\n",
    "print(X[:4])"
   ]
  },
  {
   "cell_type": "code",
   "execution_count": null,
   "metadata": {},
   "outputs": [],
   "source": [
    "import matplotlib.pyplot as plt\n",
    "clusters = DBSCAN(eps=.5, min_samples=100).fit(X_new).labels_\n"
   ]
  },
  {
   "cell_type": "code",
   "execution_count": null,
   "metadata": {},
   "outputs": [
    {
     "ename": "Error",
     "evalue": "Kernel is dead",
     "output_type": "error",
     "traceback": [
      "Error: Kernel is dead",
      "at g._sendKernelShellControl (/Users/zariski/.vscode-oss/extensions/ms-toolsai.jupyter-2021.9.100/out/client/extension.js:52:1007482)",
      "at g.sendShellMessage (/Users/zariski/.vscode-oss/extensions/ms-toolsai.jupyter-2021.9.100/out/client/extension.js:52:1007251)",
      "at g.requestExecute (/Users/zariski/.vscode-oss/extensions/ms-toolsai.jupyter-2021.9.100/out/client/extension.js:52:1009793)",
      "at d.requestExecute (/Users/zariski/.vscode-oss/extensions/ms-toolsai.jupyter-2021.9.100/out/client/extension.js:37:329141)",
      "at S.requestExecute (/Users/zariski/.vscode-oss/extensions/ms-toolsai.jupyter-2021.9.100/out/client/extension.js:32:17734)",
      "at w.executeCodeCell (/Users/zariski/.vscode-oss/extensions/ms-toolsai.jupyter-2021.9.100/out/client/extension.js:52:301900)",
      "at w.execute (/Users/zariski/.vscode-oss/extensions/ms-toolsai.jupyter-2021.9.100/out/client/extension.js:52:301527)",
      "at w.start (/Users/zariski/.vscode-oss/extensions/ms-toolsai.jupyter-2021.9.100/out/client/extension.js:52:297191)",
      "at runMicrotasks (<anonymous>)",
      "at processTicksAndRejections (internal/process/task_queues.js:93:5)",
      "at async t.CellExecutionQueue.executeQueuedCells (/Users/zariski/.vscode-oss/extensions/ms-toolsai.jupyter-2021.9.100/out/client/extension.js:52:311926)",
      "at async t.CellExecutionQueue.start (/Users/zariski/.vscode-oss/extensions/ms-toolsai.jupyter-2021.9.100/out/client/extension.js:52:311466)"
     ]
    }
   ],
   "source": [
    "plt.scatter(X_new[np.where(clusters==0),0], X_new[np.where(clusters==0),1], color='blue')\n",
    "plt.scatter(X_new[np.where(clusters==1),0], X_new[np.where(clusters==1),1], color='red')\n",
    "plt.scatter(X_new[np.where(clusters==2),0], X_new[np.where(clusters==2),1], color='yellow')\n",
    "plt.scatter(X_new[np.where(clusters==3),0], X_new[np.where(clusters==3),1], color='orange')\n",
    "plt.scatter(X_new[np.where(clusters==4),0], X_new[np.where(clusters==4),1], color='green')\n",
    "plt.show()"
   ]
  },
  {
   "cell_type": "code",
   "execution_count": null,
   "metadata": {},
   "outputs": [
    {
     "ename": "Error",
     "evalue": "Kernel is dead",
     "output_type": "error",
     "traceback": [
      "Error: Kernel is dead",
      "at g._sendKernelShellControl (/Users/zariski/.vscode-oss/extensions/ms-toolsai.jupyter-2021.9.100/out/client/extension.js:52:1007482)",
      "at g.sendShellMessage (/Users/zariski/.vscode-oss/extensions/ms-toolsai.jupyter-2021.9.100/out/client/extension.js:52:1007251)",
      "at g.requestExecute (/Users/zariski/.vscode-oss/extensions/ms-toolsai.jupyter-2021.9.100/out/client/extension.js:52:1009793)",
      "at d.requestExecute (/Users/zariski/.vscode-oss/extensions/ms-toolsai.jupyter-2021.9.100/out/client/extension.js:37:329141)",
      "at S.requestExecute (/Users/zariski/.vscode-oss/extensions/ms-toolsai.jupyter-2021.9.100/out/client/extension.js:32:17734)",
      "at w.executeCodeCell (/Users/zariski/.vscode-oss/extensions/ms-toolsai.jupyter-2021.9.100/out/client/extension.js:52:301900)",
      "at w.execute (/Users/zariski/.vscode-oss/extensions/ms-toolsai.jupyter-2021.9.100/out/client/extension.js:52:301527)",
      "at w.start (/Users/zariski/.vscode-oss/extensions/ms-toolsai.jupyter-2021.9.100/out/client/extension.js:52:297191)",
      "at runMicrotasks (<anonymous>)",
      "at processTicksAndRejections (internal/process/task_queues.js:93:5)",
      "at async t.CellExecutionQueue.executeQueuedCells (/Users/zariski/.vscode-oss/extensions/ms-toolsai.jupyter-2021.9.100/out/client/extension.js:52:311926)",
      "at async t.CellExecutionQueue.start (/Users/zariski/.vscode-oss/extensions/ms-toolsai.jupyter-2021.9.100/out/client/extension.js:52:311466)"
     ]
    }
   ],
   "source": [
    "print(len(clusters))"
   ]
  },
  {
   "cell_type": "code",
   "execution_count": null,
   "metadata": {},
   "outputs": [],
   "source": []
  }
 ],
 "metadata": {
  "interpreter": {
   "hash": "05c01a4d5f3010ae828da78643f7169210e915a98daece077f350582c952be42"
  },
  "kernelspec": {
   "display_name": "Python 3.10.6 64-bit ('ml_hw3': conda)",
   "name": "python3"
  },
  "language_info": {
   "codemirror_mode": {
    "name": "ipython",
    "version": 3
   },
   "file_extension": ".py",
   "mimetype": "text/x-python",
   "name": "python",
   "nbconvert_exporter": "python",
   "pygments_lexer": "ipython3",
   "version": "3.10.6"
  },
  "orig_nbformat": 4
 },
 "nbformat": 4,
 "nbformat_minor": 2
}
