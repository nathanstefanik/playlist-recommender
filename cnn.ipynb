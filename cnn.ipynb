{
 "cells": [
  {
   "cell_type": "code",
   "execution_count": 1,
   "metadata": {},
   "outputs": [],
   "source": [
    "import numpy as np\n",
    "import pandas as pd"
   ]
  },
  {
   "cell_type": "code",
   "execution_count": 2,
   "metadata": {},
   "outputs": [
    {
     "name": "stdout",
     "output_type": "stream",
     "text": [
      "X shape:  (2058, 120, 13)\n",
      "y shape:  (2058, 13)\n"
     ]
    }
   ],
   "source": [
    "want_new_data = False\n",
    "\n",
    "if want_new_data:\n",
    "    data = pd.read_pickle('crafted_data/playlists_and_trackid.pkl')\n",
    "    data = data[data['num_tracks_id'] >= 10]\n",
    "    max_length = max(data['num_tracks_id'])\n",
    "\n",
    "    numerical_values = pd.read_pickle('src/tracks_numerical_features.pkl')\n",
    "    numerical_values = numerical_values.set_index('id')\n",
    "    X = []\n",
    "    y = []\n",
    "    for playlist in data['tracks']:\n",
    "        curr = []\n",
    "        for i in range(len(playlist)):\n",
    "            \n",
    "            song_id = playlist[i]\n",
    "            if (i == len(playlist) - 1):\n",
    "                y.append(np.array(numerical_values.loc[song_id].values))\n",
    "            else:\n",
    "                curr.append(np.array(numerical_values.loc[song_id].values))\n",
    "        to_pad = max_length - len(curr) - 1\n",
    "        tmp = np.array(curr)\n",
    "        tmp = np.pad(tmp, pad_width=((to_pad,0), (0,0)), mode='constant')\n",
    "        X.append(np.array(tmp))\n",
    "    X = np.array(X)\n",
    "    y = np.array(y)\n",
    "    np.save('crafted_data/X', X)\n",
    "    np.save('crafted_data/y', y)\n",
    "else:\n",
    "    X = np.load('crafted_data/X.npy')\n",
    "    y = np.load('crafted_data/y.npy')\n",
    "\n",
    "print('X shape: ', X.shape)\n",
    "print('y shape: ', y.shape)"
   ]
  },
  {
   "cell_type": "code",
   "execution_count": 3,
   "metadata": {},
   "outputs": [],
   "source": [
    "from sklearn.model_selection import train_test_split\n",
    "X_train, X_test, y_train, y_test = train_test_split(X, y, test_size=0.20, random_state=42)"
   ]
  },
  {
   "cell_type": "code",
   "execution_count": 5,
   "metadata": {},
   "outputs": [
    {
     "name": "stdout",
     "output_type": "stream",
     "text": [
      "Epoch 1/20\n",
      "22/26 [========================>.....] - ETA: 0s - loss: 442.9284 - mse: 442.9284\n",
      "Epoch 1: val_loss improved from inf to 117.77413, saving model to models/cnn/best_cnn.hdf5\n",
      "26/26 [==============================] - 0s 11ms/step - loss: 395.3067 - mse: 395.3067 - val_loss: 117.7741 - val_mse: 117.7741\n",
      "Epoch 2/20\n",
      "21/26 [=======================>......] - ETA: 0s - loss: 107.3783 - mse: 107.3783\n",
      "Epoch 2: val_loss improved from 117.77413 to 81.98257, saving model to models/cnn/best_cnn.hdf5\n",
      "26/26 [==============================] - 0s 9ms/step - loss: 101.2469 - mse: 101.2469 - val_loss: 81.9826 - val_mse: 81.9826\n",
      "Epoch 3/20\n",
      "22/26 [========================>.....] - ETA: 0s - loss: 75.4173 - mse: 75.4173\n",
      "Epoch 3: val_loss improved from 81.98257 to 78.50364, saving model to models/cnn/best_cnn.hdf5\n",
      "26/26 [==============================] - 0s 9ms/step - loss: 77.2053 - mse: 77.2053 - val_loss: 78.5036 - val_mse: 78.5036\n",
      "Epoch 4/20\n",
      "22/26 [========================>.....] - ETA: 0s - loss: 74.3212 - mse: 74.3212\n",
      "Epoch 4: val_loss improved from 78.50364 to 77.23157, saving model to models/cnn/best_cnn.hdf5\n",
      "26/26 [==============================] - 0s 9ms/step - loss: 73.3669 - mse: 73.3669 - val_loss: 77.2316 - val_mse: 77.2316\n",
      "Epoch 5/20\n",
      "22/26 [========================>.....] - ETA: 0s - loss: 69.5471 - mse: 69.5471\n",
      "Epoch 5: val_loss improved from 77.23157 to 76.10487, saving model to models/cnn/best_cnn.hdf5\n",
      "26/26 [==============================] - 0s 9ms/step - loss: 70.4496 - mse: 70.4496 - val_loss: 76.1049 - val_mse: 76.1049\n",
      "Epoch 6/20\n",
      "23/26 [=========================>....] - ETA: 0s - loss: 67.5902 - mse: 67.5902\n",
      "Epoch 6: val_loss did not improve from 76.10487\n",
      "26/26 [==============================] - 0s 9ms/step - loss: 68.7029 - mse: 68.7029 - val_loss: 76.7032 - val_mse: 76.7032\n",
      "Epoch 7/20\n",
      "22/26 [========================>.....] - ETA: 0s - loss: 67.0772 - mse: 67.0772\n",
      "Epoch 7: val_loss did not improve from 76.10487\n",
      "26/26 [==============================] - 0s 9ms/step - loss: 67.5860 - mse: 67.5860 - val_loss: 77.1983 - val_mse: 77.1983\n",
      "Epoch 8/20\n",
      "20/26 [======================>.......] - ETA: 0s - loss: 68.1402 - mse: 68.1402\n",
      "Epoch 8: val_loss did not improve from 76.10487\n",
      "26/26 [==============================] - 0s 9ms/step - loss: 66.9344 - mse: 66.9344 - val_loss: 76.5223 - val_mse: 76.5223\n",
      "Epoch 9/20\n",
      "22/26 [========================>.....] - ETA: 0s - loss: 66.5776 - mse: 66.5776\n",
      "Epoch 9: val_loss did not improve from 76.10487\n",
      "26/26 [==============================] - 0s 8ms/step - loss: 66.0588 - mse: 66.0588 - val_loss: 77.7689 - val_mse: 77.7689\n",
      "Epoch 10/20\n",
      "22/26 [========================>.....] - ETA: 0s - loss: 64.5626 - mse: 64.5626\n",
      "Epoch 10: val_loss did not improve from 76.10487\n",
      "26/26 [==============================] - 0s 9ms/step - loss: 65.3638 - mse: 65.3638 - val_loss: 77.5656 - val_mse: 77.5656\n",
      "Epoch 11/20\n",
      "22/26 [========================>.....] - ETA: 0s - loss: 63.9757 - mse: 63.9757\n",
      "Epoch 11: val_loss did not improve from 76.10487\n",
      "26/26 [==============================] - 0s 8ms/step - loss: 64.7380 - mse: 64.7380 - val_loss: 78.0424 - val_mse: 78.0424\n",
      "Epoch 12/20\n",
      "22/26 [========================>.....] - ETA: 0s - loss: 65.1571 - mse: 65.1571\n",
      "Epoch 12: val_loss did not improve from 76.10487\n",
      "26/26 [==============================] - 0s 9ms/step - loss: 64.6942 - mse: 64.6942 - val_loss: 79.1806 - val_mse: 79.1806\n",
      "Epoch 13/20\n",
      "22/26 [========================>.....] - ETA: 0s - loss: 65.5569 - mse: 65.5569\n",
      "Epoch 13: val_loss did not improve from 76.10487\n",
      "26/26 [==============================] - 0s 8ms/step - loss: 65.0743 - mse: 65.0743 - val_loss: 81.4243 - val_mse: 81.4243\n",
      "Epoch 14/20\n",
      "22/26 [========================>.....] - ETA: 0s - loss: 64.8112 - mse: 64.8112\n",
      "Epoch 14: val_loss did not improve from 76.10487\n",
      "26/26 [==============================] - 0s 8ms/step - loss: 64.7952 - mse: 64.7952 - val_loss: 81.3571 - val_mse: 81.3571\n",
      "Epoch 15/20\n",
      "22/26 [========================>.....] - ETA: 0s - loss: 63.8960 - mse: 63.8960\n",
      "Epoch 15: val_loss did not improve from 76.10487\n",
      "26/26 [==============================] - 0s 8ms/step - loss: 64.3054 - mse: 64.3054 - val_loss: 80.9459 - val_mse: 80.9459\n",
      "Epoch 16/20\n",
      "22/26 [========================>.....] - ETA: 0s - loss: 62.4260 - mse: 62.4260\n",
      "Epoch 16: val_loss did not improve from 76.10487\n",
      "26/26 [==============================] - 0s 8ms/step - loss: 63.1863 - mse: 63.1863 - val_loss: 80.3813 - val_mse: 80.3813\n",
      "Epoch 17/20\n",
      "23/26 [=========================>....] - ETA: 0s - loss: 62.0236 - mse: 62.0236\n",
      "Epoch 17: val_loss did not improve from 76.10487\n",
      "26/26 [==============================] - 0s 8ms/step - loss: 61.7076 - mse: 61.7076 - val_loss: 81.2044 - val_mse: 81.2044\n",
      "Epoch 18/20\n",
      "22/26 [========================>.....] - ETA: 0s - loss: 63.1253 - mse: 63.1253\n",
      "Epoch 18: val_loss did not improve from 76.10487\n",
      "26/26 [==============================] - 0s 9ms/step - loss: 62.8311 - mse: 62.8311 - val_loss: 80.4965 - val_mse: 80.4965\n",
      "Epoch 19/20\n",
      "20/26 [======================>.......] - ETA: 0s - loss: 61.3596 - mse: 61.3596\n",
      "Epoch 19: val_loss did not improve from 76.10487\n",
      "26/26 [==============================] - 0s 9ms/step - loss: 61.4528 - mse: 61.4528 - val_loss: 80.7058 - val_mse: 80.7058\n",
      "Epoch 20/20\n",
      "22/26 [========================>.....] - ETA: 0s - loss: 60.6040 - mse: 60.6040\n",
      "Epoch 20: val_loss did not improve from 76.10487\n",
      "26/26 [==============================] - 0s 8ms/step - loss: 61.6065 - mse: 61.6065 - val_loss: 82.4248 - val_mse: 82.4248\n"
     ]
    },
    {
     "data": {
      "image/png": "[encoded data removed]",
      "text/plain": [
       "<Figure size 640x480 with 1 Axes>"
      ]
     },
     "metadata": {},
     "output_type": "display_data"
    },
    {
     "name": "stdout",
     "output_type": "stream",
     "text": [
      "13/13 [==============================] - 0s 2ms/step\n",
      "Best model MSE on test data =  70.46772\n"
     ]
    }
   ],
   "source": [
    "import tensorflow as tf\n",
    "import keras\n",
    "from keras.datasets import mnist\n",
    "from keras.models import Sequential\n",
    "from keras.layers import Dense, Dropout, Flatten, Activation\n",
    "from keras.layers import Conv2D, MaxPooling2D\n",
    "from keras.callbacks import ModelCheckpoint\n",
    "import pandas as pd\n",
    "import numpy as np\n",
    "import matplotlib.pyplot as plt\n",
    "from keras import regularizers, optimizers\n",
    "from keras.layers import Dense, Dropout, Input\n",
    "from keras.models import Sequential, load_model\n",
    "from keras.datasets import boston_housing\n",
    "from keras.losses import MeanSquaredError\n",
    "\n",
    "# hyperparameters\n",
    "INPUT_SIZE = (X.shape[1], X.shape[2], 1)\n",
    "HIDDEN_SIZE = 10\n",
    "EPOCHS = 20\n",
    "BATCH_SIZE = 64\n",
    "lr = 0.1\n",
    "\n",
    "#Create model\n",
    "model = Sequential()\n",
    "model.add(Conv2D(32, kernel_size=(3, 3), activation='relu', input_shape=INPUT_SIZE))\n",
    "model.add(Flatten())\n",
    "model.add(Dense(13, activation='linear'))\n",
    "\n",
    "mse = MeanSquaredError()\n",
    "adam = optimizers.Adam(learning_rate=lr, decay=1e-3)\n",
    "model.compile(optimizer=adam, loss=mse, metrics = None)\n",
    "\n",
    "filepath = 'models/cnn/best_cnn.hdf5'\n",
    "checkpoint = ModelCheckpoint(filepath=filepath, monitor='val_loss', verbose=1, save_best_only=True, mode='min')\n",
    "callbacks = [checkpoint]\n",
    "\n",
    "model.compile(loss='mean_squared_error', optimizer='adam', metrics=['mse'])\n",
    "\n",
    "data = X.reshape(X.shape[0],X.shape[1], X.shape[2], 1)\n",
    "\n",
    "history = model.fit(data, y, batch_size=BATCH_SIZE, epochs=EPOCHS,\n",
    "                  validation_split=0.2,\n",
    "                  callbacks=callbacks)\n",
    "\n",
    "#plot the training history\n",
    "plt.plot(history.history['loss'], label='Training Loss')\n",
    "plt.plot(history.history['val_loss'], label='Validation Loss')\n",
    "plt.legend()\n",
    "plt.xlabel('Epochs')\n",
    "plt.ylabel('Mean Squared Error')\n",
    "plt.savefig('images/cnn_training_history')\n",
    "plt.show()\n",
    "\n",
    "#Load and evaluate the best model version\n",
    "model = load_model(filepath)\n",
    "yhat = model.predict(X_test)\n",
    "print('Best model MSE on test data = ', mse(y_test, yhat).numpy())"
   ]
  },
  {
   "cell_type": "code",
   "execution_count": null,
   "metadata": {},
   "outputs": [],
   "source": []
  }
 ],
 "metadata": {
  "interpreter": {
   "hash": "b21c3a604574dfaedfebf33016634125002219c5b053c76b7c30093444b6955f"
  },
  "kernelspec": {
   "display_name": "Python 3.10.6 64-bit ('ml': conda)",
   "name": "python3"
  },
  "language_info": {
   "codemirror_mode": {
    "name": "ipython",
    "version": 3
   },
   "file_extension": ".py",
   "mimetype": "text/x-python",
   "name": "python",
   "nbconvert_exporter": "python",
   "pygments_lexer": "ipython3",
   "version": "3.10.6"
  },
  "orig_nbformat": 4
 },
 "nbformat": 4,
 "nbformat_minor": 2
}
